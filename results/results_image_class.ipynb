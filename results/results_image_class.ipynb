{
 "cells": [
  {
   "cell_type": "code",
   "execution_count": 1,
   "metadata": {},
   "outputs": [],
   "source": [
    "import os\n",
    "import glob\n",
    "import pandas as pd\n",
    "import numpy as np\n",
    "os.chdir(\".\")"
   ]
  },
  {
   "cell_type": "code",
   "execution_count": 2,
   "metadata": {},
   "outputs": [],
   "source": [
    "res = [i for i in glob.glob('DVIP_MNIST/*')]\n",
    "df = []\n",
    "for f in res:\n",
    "    try: \n",
    "        df.append(pd.read_csv(f))\n",
    "    except:\n",
    "        continue\n",
    "    \n",
    "df = pd.concat(df)\n",
    "df = df.loc[:, (df != df.iloc[0]).any()] \n",
    "df = df.drop([\"name_flag\", \"dataset\", \"activation\", \"final_layer_noise\"], axis=1)\n",
    "df.drop_duplicates(inplace = True)\n",
    "df[\"Accuracy\"] = 1 - df[\"Error\"]\n",
    "df.to_csv(\"DVIP_MNIST.csv\", index = False)"
   ]
  },
  {
   "cell_type": "code",
   "execution_count": 3,
   "metadata": {},
   "outputs": [],
   "source": [
    "res = [i for i in glob.glob('DVIP_Rectangles/*')]\n",
    "df2 = []\n",
    "for f in res:\n",
    "    try: \n",
    "        df2.append(pd.read_csv(f))\n",
    "    except:\n",
    "        continue\n",
    "df2 = pd.concat(df2)\n",
    "df2 = df2.loc[:, (df2 != df2.iloc[0]).any()] \n",
    "df2 = df2.drop([\"name_flag\", \"dataset\", \"final_layer_noise\"], axis=1)\n",
    "df2.drop_duplicates(inplace = True)\n",
    "df2[\"Accuracy\"] = 1 - df2[\"Error\"]\n",
    "df2.to_csv(\"DVIP_Rectangles.csv\", index = False)"
   ]
  },
  {
   "cell_type": "markdown",
   "metadata": {},
   "source": [
    "# MNIST"
   ]
  },
  {
   "cell_type": "code",
   "execution_count": 5,
   "metadata": {},
   "outputs": [
    {
     "data": {
      "text/html": [
       "<div>\n",
       "<style scoped>\n",
       "    .dataframe tbody tr th:only-of-type {\n",
       "        vertical-align: middle;\n",
       "    }\n",
       "\n",
       "    .dataframe tbody tr th {\n",
       "        vertical-align: top;\n",
       "    }\n",
       "\n",
       "    .dataframe thead th {\n",
       "        text-align: right;\n",
       "    }\n",
       "</style>\n",
       "<table border=\"1\" class=\"dataframe\">\n",
       "  <thead>\n",
       "    <tr style=\"text-align: right;\">\n",
       "      <th></th>\n",
       "      <th>vip_layers</th>\n",
       "      <th>time</th>\n",
       "      <th>LOSS</th>\n",
       "      <th>NLL</th>\n",
       "      <th>Error</th>\n",
       "      <th>Accuracy</th>\n",
       "    </tr>\n",
       "  </thead>\n",
       "  <tbody>\n",
       "    <tr>\n",
       "      <th>0</th>\n",
       "      <td>[1]</td>\n",
       "      <td>5173.667186</td>\n",
       "      <td>1859.423462</td>\n",
       "      <td>0.133075</td>\n",
       "      <td>0.018601</td>\n",
       "      <td>0.981399</td>\n",
       "    </tr>\n",
       "    <tr>\n",
       "      <th>0</th>\n",
       "      <td>[30, 10]</td>\n",
       "      <td>8814.939981</td>\n",
       "      <td>2245.359619</td>\n",
       "      <td>0.075662</td>\n",
       "      <td>0.014300</td>\n",
       "      <td>0.985700</td>\n",
       "    </tr>\n",
       "    <tr>\n",
       "      <th>0</th>\n",
       "      <td>[30, 30, 10]</td>\n",
       "      <td>10633.844711</td>\n",
       "      <td>2448.056152</td>\n",
       "      <td>0.081091</td>\n",
       "      <td>0.016101</td>\n",
       "      <td>0.983899</td>\n",
       "    </tr>\n",
       "  </tbody>\n",
       "</table>\n",
       "</div>"
      ],
      "text/plain": [
       "     vip_layers          time         LOSS       NLL     Error  Accuracy\n",
       "0           [1]   5173.667186  1859.423462  0.133075  0.018601  0.981399\n",
       "0      [30, 10]   8814.939981  2245.359619  0.075662  0.014300  0.985700\n",
       "0  [30, 30, 10]  10633.844711  2448.056152  0.081091  0.016101  0.983899"
      ]
     },
     "execution_count": 5,
     "metadata": {},
     "output_type": "execute_result"
    }
   ],
   "source": [
    "df"
   ]
  },
  {
   "cell_type": "markdown",
   "metadata": {},
   "source": [
    "# Rectangles"
   ]
  },
  {
   "cell_type": "code",
   "execution_count": 39,
   "metadata": {},
   "outputs": [
    {
     "data": {
      "text/html": [
       "<div>\n",
       "<style scoped>\n",
       "    .dataframe tbody tr th:only-of-type {\n",
       "        vertical-align: middle;\n",
       "    }\n",
       "\n",
       "    .dataframe tbody tr th {\n",
       "        vertical-align: top;\n",
       "    }\n",
       "\n",
       "    .dataframe thead th {\n",
       "        text-align: right;\n",
       "    }\n",
       "</style>\n",
       "<table border=\"1\" class=\"dataframe\">\n",
       "  <thead>\n",
       "    <tr style=\"text-align: right;\">\n",
       "      <th></th>\n",
       "      <th>vip_layers</th>\n",
       "      <th>time</th>\n",
       "      <th>LOSS</th>\n",
       "      <th>NLL</th>\n",
       "      <th>Error</th>\n",
       "      <th>AUC</th>\n",
       "      <th>Accuracy</th>\n",
       "    </tr>\n",
       "  </thead>\n",
       "  <tbody>\n",
       "    <tr>\n",
       "      <th>0</th>\n",
       "      <td>[1]</td>\n",
       "      <td>2269.671875</td>\n",
       "      <td>3518.364258</td>\n",
       "      <td>0.345029</td>\n",
       "      <td>0.1500</td>\n",
       "      <td>0.931509</td>\n",
       "      <td>0.8500</td>\n",
       "    </tr>\n",
       "    <tr>\n",
       "      <th>0</th>\n",
       "      <td>[30, 1]</td>\n",
       "      <td>4726.031250</td>\n",
       "      <td>3913.753906</td>\n",
       "      <td>0.311678</td>\n",
       "      <td>0.1235</td>\n",
       "      <td>0.948519</td>\n",
       "      <td>0.8765</td>\n",
       "    </tr>\n",
       "    <tr>\n",
       "      <th>0</th>\n",
       "      <td>[30, 30, 1]</td>\n",
       "      <td>9988.312500</td>\n",
       "      <td>3485.658447</td>\n",
       "      <td>0.281072</td>\n",
       "      <td>0.1220</td>\n",
       "      <td>0.956265</td>\n",
       "      <td>0.8780</td>\n",
       "    </tr>\n",
       "    <tr>\n",
       "      <th>0</th>\n",
       "      <td>[30, 30, 30, 1]</td>\n",
       "      <td>9192.171875</td>\n",
       "      <td>3488.215576</td>\n",
       "      <td>0.287568</td>\n",
       "      <td>0.1240</td>\n",
       "      <td>0.950864</td>\n",
       "      <td>0.8760</td>\n",
       "    </tr>\n",
       "    <tr>\n",
       "      <th>0</th>\n",
       "      <td>[30, 30, 30, 30, 1]</td>\n",
       "      <td>10387.359375</td>\n",
       "      <td>3441.252930</td>\n",
       "      <td>0.283300</td>\n",
       "      <td>0.1190</td>\n",
       "      <td>0.952737</td>\n",
       "      <td>0.8810</td>\n",
       "    </tr>\n",
       "  </tbody>\n",
       "</table>\n",
       "</div>"
      ],
      "text/plain": [
       "            vip_layers          time         LOSS       NLL   Error       AUC  \\\n",
       "0                  [1]   2269.671875  3518.364258  0.345029  0.1500  0.931509   \n",
       "0              [30, 1]   4726.031250  3913.753906  0.311678  0.1235  0.948519   \n",
       "0          [30, 30, 1]   9988.312500  3485.658447  0.281072  0.1220  0.956265   \n",
       "0      [30, 30, 30, 1]   9192.171875  3488.215576  0.287568  0.1240  0.950864   \n",
       "0  [30, 30, 30, 30, 1]  10387.359375  3441.252930  0.283300  0.1190  0.952737   \n",
       "\n",
       "   Accuracy  \n",
       "0    0.8500  \n",
       "0    0.8765  \n",
       "0    0.8780  \n",
       "0    0.8760  \n",
       "0    0.8810  "
      ]
     },
     "execution_count": 39,
     "metadata": {},
     "output_type": "execute_result"
    }
   ],
   "source": [
    "df2"
   ]
  },
  {
   "cell_type": "code",
   "execution_count": null,
   "metadata": {},
   "outputs": [],
   "source": []
  }
 ],
 "metadata": {
  "interpreter": {
   "hash": "7d22d6b27a92cd994f9e31f4a97960133434df2a462e6e0a555d37d81245812e"
  },
  "kernelspec": {
   "display_name": "Python 3 (ipykernel)",
   "language": "python",
   "name": "python3"
  },
  "language_info": {
   "codemirror_mode": {
    "name": "ipython",
    "version": 3
   },
   "file_extension": ".py",
   "mimetype": "text/x-python",
   "name": "python",
   "nbconvert_exporter": "python",
   "pygments_lexer": "ipython3",
   "version": "3.9.7"
  }
 },
 "nbformat": 4,
 "nbformat_minor": 4
}
