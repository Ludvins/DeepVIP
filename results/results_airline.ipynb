{
 "cells": [
  {
   "cell_type": "code",
   "execution_count": 1,
   "metadata": {},
   "outputs": [],
   "source": [
    "import os\n",
    "import glob\n",
    "import pandas as pd\n",
    "os.chdir(\".\")"
   ]
  },
  {
   "cell_type": "code",
   "execution_count": 2,
   "metadata": {},
   "outputs": [],
   "source": [
    "res = [i for i in glob.glob('DVIP_Airline/*')]\n",
    "df = []\n",
    "for f in res:\n",
    "    try: \n",
    "        df.append(pd.read_csv(f))\n",
    "    except:\n",
    "        continue\n",
    "df = pd.concat(df)\n",
    "df = df.loc[:, (df != df.iloc[0]).any()] \n",
    "df = df.drop([\"name_flag\", \"dataset\", \"activation\", \"final_layer_noise\"], axis=1)\n",
    "df.drop_duplicates(inplace = True)\n",
    "df.to_csv(\"DVIP_Airline.csv\", index = False)"
   ]
  },
  {
   "cell_type": "code",
   "execution_count": 3,
   "metadata": {},
   "outputs": [],
   "source": [
    "res2 = [i for i in glob.glob('DGP_Airline/*')]\n",
    "df2 = pd.concat([pd.read_csv(f) for f in res2 ]).drop([\"Unnamed: 0\"], axis = 1)\n",
    "df2.to_csv(\"DGP_Airline.csv\", index = False)"
   ]
  },
  {
   "cell_type": "markdown",
   "metadata": {},
   "source": [
    "# DVIP"
   ]
  },
  {
   "cell_type": "code",
   "execution_count": 4,
   "metadata": {},
   "outputs": [
    {
     "data": {
      "text/html": [
       "<div>\n",
       "<style scoped>\n",
       "    .dataframe tbody tr th:only-of-type {\n",
       "        vertical-align: middle;\n",
       "    }\n",
       "\n",
       "    .dataframe tbody tr th {\n",
       "        vertical-align: top;\n",
       "    }\n",
       "\n",
       "    .dataframe thead th {\n",
       "        text-align: right;\n",
       "    }\n",
       "</style>\n",
       "<table border=\"1\" class=\"dataframe\">\n",
       "  <thead>\n",
       "    <tr style=\"text-align: right;\">\n",
       "      <th></th>\n",
       "      <th>vip_layers</th>\n",
       "      <th>time</th>\n",
       "      <th>LOSS</th>\n",
       "      <th>RMSE</th>\n",
       "      <th>NLL</th>\n",
       "      <th>CRPS</th>\n",
       "    </tr>\n",
       "  </thead>\n",
       "  <tbody>\n",
       "    <tr>\n",
       "      <th>0</th>\n",
       "      <td>[1]</td>\n",
       "      <td>1058.912909</td>\n",
       "      <td>243.962799</td>\n",
       "      <td>39.104942</td>\n",
       "      <td>5.110451</td>\n",
       "      <td>18.652100</td>\n",
       "    </tr>\n",
       "    <tr>\n",
       "      <th>0</th>\n",
       "      <td>[2]</td>\n",
       "      <td>1933.779033</td>\n",
       "      <td>781.751404</td>\n",
       "      <td>37.918660</td>\n",
       "      <td>5.081051</td>\n",
       "      <td>18.007589</td>\n",
       "    </tr>\n",
       "    <tr>\n",
       "      <th>0</th>\n",
       "      <td>[3]</td>\n",
       "      <td>4476.365008</td>\n",
       "      <td>1169.510620</td>\n",
       "      <td>37.821460</td>\n",
       "      <td>5.072818</td>\n",
       "      <td>17.778057</td>\n",
       "    </tr>\n",
       "    <tr>\n",
       "      <th>0</th>\n",
       "      <td>[4]</td>\n",
       "      <td>5795.220173</td>\n",
       "      <td>1523.116943</td>\n",
       "      <td>37.777718</td>\n",
       "      <td>5.076582</td>\n",
       "      <td>17.753923</td>\n",
       "    </tr>\n",
       "    <tr>\n",
       "      <th>0</th>\n",
       "      <td>[5]</td>\n",
       "      <td>9077.224314</td>\n",
       "      <td>1860.864014</td>\n",
       "      <td>37.715797</td>\n",
       "      <td>5.070365</td>\n",
       "      <td>17.655338</td>\n",
       "    </tr>\n",
       "  </tbody>\n",
       "</table>\n",
       "</div>"
      ],
      "text/plain": [
       "  vip_layers         time         LOSS       RMSE       NLL       CRPS\n",
       "0        [1]  1058.912909   243.962799  39.104942  5.110451  18.652100\n",
       "0        [2]  1933.779033   781.751404  37.918660  5.081051  18.007589\n",
       "0        [3]  4476.365008  1169.510620  37.821460  5.072818  17.778057\n",
       "0        [4]  5795.220173  1523.116943  37.777718  5.076582  17.753923\n",
       "0        [5]  9077.224314  1860.864014  37.715797  5.070365  17.655338"
      ]
     },
     "execution_count": 4,
     "metadata": {},
     "output_type": "execute_result"
    }
   ],
   "source": [
    "df"
   ]
  },
  {
   "cell_type": "markdown",
   "metadata": {},
   "source": [
    "# DGP"
   ]
  },
  {
   "cell_type": "code",
   "execution_count": 8,
   "metadata": {},
   "outputs": [
    {
     "data": {
      "text/html": [
       "<div>\n",
       "<style scoped>\n",
       "    .dataframe tbody tr th:only-of-type {\n",
       "        vertical-align: middle;\n",
       "    }\n",
       "\n",
       "    .dataframe tbody tr th {\n",
       "        vertical-align: top;\n",
       "    }\n",
       "\n",
       "    .dataframe thead th {\n",
       "        text-align: right;\n",
       "    }\n",
       "</style>\n",
       "<table border=\"1\" class=\"dataframe\">\n",
       "  <thead>\n",
       "    <tr style=\"text-align: right;\">\n",
       "      <th></th>\n",
       "      <th>split</th>\n",
       "      <th>layers</th>\n",
       "      <th>iterations</th>\n",
       "      <th>batch</th>\n",
       "      <th>dataset</th>\n",
       "      <th>NLL</th>\n",
       "      <th>RMSE</th>\n",
       "      <th>CRPS</th>\n",
       "      <th>time</th>\n",
       "    </tr>\n",
       "  </thead>\n",
       "  <tbody>\n",
       "    <tr>\n",
       "      <th>0</th>\n",
       "      <td>0</td>\n",
       "      <td>1</td>\n",
       "      <td>150000</td>\n",
       "      <td>100</td>\n",
       "      <td>airline</td>\n",
       "      <td>5.095962</td>\n",
       "      <td>38.578801</td>\n",
       "      <td>18.128838</td>\n",
       "      <td>1137.669891</td>\n",
       "    </tr>\n",
       "    <tr>\n",
       "      <th>0</th>\n",
       "      <td>0</td>\n",
       "      <td>2</td>\n",
       "      <td>150000</td>\n",
       "      <td>100</td>\n",
       "      <td>airline</td>\n",
       "      <td>5.085434</td>\n",
       "      <td>38.155285</td>\n",
       "      <td>17.841666</td>\n",
       "      <td>4798.495938</td>\n",
       "    </tr>\n",
       "    <tr>\n",
       "      <th>0</th>\n",
       "      <td>0</td>\n",
       "      <td>3</td>\n",
       "      <td>150000</td>\n",
       "      <td>100</td>\n",
       "      <td>airline</td>\n",
       "      <td>5.074278</td>\n",
       "      <td>37.927602</td>\n",
       "      <td>17.599903</td>\n",
       "      <td>8445.868029</td>\n",
       "    </tr>\n",
       "    <tr>\n",
       "      <th>0</th>\n",
       "      <td>0</td>\n",
       "      <td>4</td>\n",
       "      <td>150000</td>\n",
       "      <td>100</td>\n",
       "      <td>airline</td>\n",
       "      <td>5.080939</td>\n",
       "      <td>38.089546</td>\n",
       "      <td>17.517559</td>\n",
       "      <td>12331.714914</td>\n",
       "    </tr>\n",
       "    <tr>\n",
       "      <th>0</th>\n",
       "      <td>0</td>\n",
       "      <td>5</td>\n",
       "      <td>150000</td>\n",
       "      <td>100</td>\n",
       "      <td>airline</td>\n",
       "      <td>5.080811</td>\n",
       "      <td>38.154625</td>\n",
       "      <td>17.675943</td>\n",
       "      <td>16119.457366</td>\n",
       "    </tr>\n",
       "  </tbody>\n",
       "</table>\n",
       "</div>"
      ],
      "text/plain": [
       "   split  layers  iterations  batch  dataset       NLL       RMSE       CRPS  \\\n",
       "0      0       1      150000    100  airline  5.095962  38.578801  18.128838   \n",
       "0      0       2      150000    100  airline  5.085434  38.155285  17.841666   \n",
       "0      0       3      150000    100  airline  5.074278  37.927602  17.599903   \n",
       "0      0       4      150000    100  airline  5.080939  38.089546  17.517559   \n",
       "0      0       5      150000    100  airline  5.080811  38.154625  17.675943   \n",
       "\n",
       "           time  \n",
       "0   1137.669891  \n",
       "0   4798.495938  \n",
       "0   8445.868029  \n",
       "0  12331.714914  \n",
       "0  16119.457366  "
      ]
     },
     "execution_count": 8,
     "metadata": {},
     "output_type": "execute_result"
    }
   ],
   "source": [
    "df2"
   ]
  },
  {
   "cell_type": "code",
   "execution_count": null,
   "metadata": {},
   "outputs": [],
   "source": []
  }
 ],
 "metadata": {
  "interpreter": {
   "hash": "b281a6f164d6590c4139759792e3875171ae0f0d6d12fad8f07687152bcc70be"
  },
  "kernelspec": {
   "display_name": "Python 3.9.7 ('.venv': venv)",
   "language": "python",
   "name": "python3"
  },
  "language_info": {
   "codemirror_mode": {
    "name": "ipython",
    "version": 3
   },
   "file_extension": ".py",
   "mimetype": "text/x-python",
   "name": "python",
   "nbconvert_exporter": "python",
   "pygments_lexer": "ipython3",
   "version": "3.9.7"
  }
 },
 "nbformat": 4,
 "nbformat_minor": 4
}
