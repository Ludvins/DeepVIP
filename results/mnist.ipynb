{
 "cells": [
  {
   "cell_type": "code",
   "execution_count": 1,
   "metadata": {},
   "outputs": [],
   "source": [
    "import sys\n",
    "sys.path.append(\"..\")\n",
    "%load_ext autoreload\n",
    "%autoreload 2\n"
   ]
  },
  {
   "cell_type": "code",
   "execution_count": 2,
   "metadata": {},
   "outputs": [],
   "source": [
    "from src.dvip import DVIP_Base\n",
    "from utils.dataset import *\n",
    "from src.generative_functions import *\n",
    "from src.layers import VIPLayer\n",
    "from src.likelihood import *\n",
    "from utils.metrics import MetricsClassification, MetricsRegression\n",
    "import torch\n",
    "from utils.pytorch_learning import fit_with_metrics\n",
    "from torch.utils.data import DataLoader\n",
    "\n",
    "seed = 2147483647"
   ]
  },
  {
   "cell_type": "code",
   "execution_count": 3,
   "metadata": {},
   "outputs": [],
   "source": [
    "torch.cuda.is_available()\n",
    "device = torch.device(\"cpu\")  "
   ]
  },
  {
   "cell_type": "code",
   "execution_count": 4,
   "metadata": {},
   "outputs": [
    {
     "name": "stdout",
     "output_type": "stream",
     "text": [
      "Number of samples:  60000\n",
      "Input dimension:  784\n",
      "Label dimension:  1\n",
      "Labels mean value:  0\n",
      "Labels standard deviation:  1\n"
     ]
    }
   ],
   "source": [
    "dataset = MNIST_Dataset()\n",
    "mc = MultiClass(\n",
    "            num_classes=10, device=device, dtype=torch.float64\n",
    "        )\n",
    "likelihood = BroadcastedLikelihood(mc)\n",
    "metrics = MetricsClassification\n",
    "train_dataset, train_test_dataset, test_dataset = dataset.get_split(0.1, seed)\n"
   ]
  },
  {
   "cell_type": "code",
   "execution_count": 5,
   "metadata": {},
   "outputs": [],
   "source": [
    "gen1 = BayesianConvNN2(20, (28, 28), 1, activation = torch.tanh, device=device)"
   ]
  },
  {
   "cell_type": "code",
   "execution_count": 6,
   "metadata": {},
   "outputs": [],
   "source": [
    "layer = VIPLayer(\n",
    "                gen1,\n",
    "                num_regression_coeffs=20,\n",
    "                input_dim=784,\n",
    "                output_dim=1,\n",
    "                add_prior_regularization=False,\n",
    "                mean_function=None,\n",
    "                log_layer_noise=None,\n",
    "                seed=seed,\n",
    "                dtype=torch.float64,\n",
    "                device=device,\n",
    "            )"
   ]
  },
  {
   "cell_type": "code",
   "execution_count": 7,
   "metadata": {},
   "outputs": [],
   "source": [
    "dvip = DVIP_Base(likelihood, [layer], len(train_dataset), device = device)"
   ]
  },
  {
   "cell_type": "code",
   "execution_count": 8,
   "metadata": {},
   "outputs": [],
   "source": [
    "train_loader = DataLoader(train_dataset, batch_size=100, shuffle=True)\n",
    "train_test_loader = DataLoader(train_test_dataset, batch_size=100)\n",
    "val_loader = DataLoader(test_dataset, batch_size=100)"
   ]
  },
  {
   "cell_type": "code",
   "execution_count": 9,
   "metadata": {},
   "outputs": [
    {
     "name": "stderr",
     "output_type": "stream",
     "text": [
      "Training :   2%|▏         | 2/100 [13:01<10:37:57, 390.59s/epoch, loss_train=2.74e+5, nll_train=0.696, error_train=0.901, loss_val=9.13e+3, nll_val=0.695, error_val=0.902]\n"
     ]
    },
    {
     "ename": "KeyboardInterrupt",
     "evalue": "",
     "output_type": "error",
     "traceback": [
      "\u001b[1;31m---------------------------------------------------------------------------\u001b[0m",
      "\u001b[1;31mKeyboardInterrupt\u001b[0m                         Traceback (most recent call last)",
      "Input \u001b[1;32mIn [9]\u001b[0m, in \u001b[0;36m<cell line: 5>\u001b[1;34m()\u001b[0m\n\u001b[0;32m      2\u001b[0m opt \u001b[39m=\u001b[39m torch\u001b[39m.\u001b[39moptim\u001b[39m.\u001b[39mAdam(dvip\u001b[39m.\u001b[39mparameters(), lr\u001b[39m=\u001b[39m\u001b[39m0.001\u001b[39m)\n\u001b[0;32m      4\u001b[0m \u001b[39m# Perform training\u001b[39;00m\n\u001b[1;32m----> 5\u001b[0m train_hist, val_hist \u001b[39m=\u001b[39m fit_with_metrics(\n\u001b[0;32m      6\u001b[0m     dvip,\n\u001b[0;32m      7\u001b[0m     train_loader,\n\u001b[0;32m      8\u001b[0m     opt,\n\u001b[0;32m      9\u001b[0m     metrics,\n\u001b[0;32m     10\u001b[0m     val_generator\u001b[39m=\u001b[39;49mval_loader,\n\u001b[0;32m     11\u001b[0m     epochs\u001b[39m=\u001b[39;49m\u001b[39m100\u001b[39;49m,\n\u001b[0;32m     12\u001b[0m     device\u001b[39m=\u001b[39;49mdevice,\n\u001b[0;32m     13\u001b[0m )\n",
      "File \u001b[1;32mc:\\Users\\Ludvins\\Documents\\DeepVIP\\results\\..\\utils\\pytorch_learning.py:231\u001b[0m, in \u001b[0;36mfit_with_metrics\u001b[1;34m(model, training_generator, optimizer, metric, val_generator, val_mc_samples, scheduler, epochs, device, verbose)\u001b[0m\n\u001b[0;32m    <a href='file:///c%3A/Users/Ludvins/Documents/DeepVIP/results/../utils/pytorch_learning.py?line=226'>227</a>\u001b[0m \u001b[39m# Update metrics for the given batch. No gradients\u001b[39;00m\n\u001b[0;32m    <a href='file:///c%3A/Users/Ludvins/Documents/DeepVIP/results/../utils/pytorch_learning.py?line=227'>228</a>\u001b[0m \u001b[39m# are computed here in order to speed up the training.\u001b[39;00m\n\u001b[0;32m    <a href='file:///c%3A/Users/Ludvins/Documents/DeepVIP/results/../utils/pytorch_learning.py?line=228'>229</a>\u001b[0m \u001b[39mwith\u001b[39;00m torch\u001b[39m.\u001b[39mno_grad():\n\u001b[0;32m    <a href='file:///c%3A/Users/Ludvins/Documents/DeepVIP/results/../utils/pytorch_learning.py?line=229'>230</a>\u001b[0m     \u001b[39m# Make predictions\u001b[39;00m\n\u001b[1;32m--> <a href='file:///c%3A/Users/Ludvins/Documents/DeepVIP/results/../utils/pytorch_learning.py?line=230'>231</a>\u001b[0m     mean_pred, std_pred \u001b[39m=\u001b[39m model(data)\n\u001b[0;32m    <a href='file:///c%3A/Users/Ludvins/Documents/DeepVIP/results/../utils/pytorch_learning.py?line=232'>233</a>\u001b[0m     \u001b[39m# Compute metrics using the original data scaled.\u001b[39;00m\n\u001b[0;32m    <a href='file:///c%3A/Users/Ludvins/Documents/DeepVIP/results/../utils/pytorch_learning.py?line=233'>234</a>\u001b[0m     scaled_target \u001b[39m=\u001b[39m target\u001b[39m*\u001b[39m model\u001b[39m.\u001b[39my_std \u001b[39m+\u001b[39m model\u001b[39m.\u001b[39my_mean\n",
      "File \u001b[1;32mc:\\Users\\Ludvins\\Documents\\DeepVIP\\.venv\\lib\\site-packages\\torch\\nn\\modules\\module.py:1102\u001b[0m, in \u001b[0;36mModule._call_impl\u001b[1;34m(self, *input, **kwargs)\u001b[0m\n\u001b[0;32m   <a href='file:///c%3A/Users/Ludvins/Documents/DeepVIP/.venv/lib/site-packages/torch/nn/modules/module.py?line=1097'>1098</a>\u001b[0m \u001b[39m# If we don't have any hooks, we want to skip the rest of the logic in\u001b[39;00m\n\u001b[0;32m   <a href='file:///c%3A/Users/Ludvins/Documents/DeepVIP/.venv/lib/site-packages/torch/nn/modules/module.py?line=1098'>1099</a>\u001b[0m \u001b[39m# this function, and just call forward.\u001b[39;00m\n\u001b[0;32m   <a href='file:///c%3A/Users/Ludvins/Documents/DeepVIP/.venv/lib/site-packages/torch/nn/modules/module.py?line=1099'>1100</a>\u001b[0m \u001b[39mif\u001b[39;00m \u001b[39mnot\u001b[39;00m (\u001b[39mself\u001b[39m\u001b[39m.\u001b[39m_backward_hooks \u001b[39mor\u001b[39;00m \u001b[39mself\u001b[39m\u001b[39m.\u001b[39m_forward_hooks \u001b[39mor\u001b[39;00m \u001b[39mself\u001b[39m\u001b[39m.\u001b[39m_forward_pre_hooks \u001b[39mor\u001b[39;00m _global_backward_hooks\n\u001b[0;32m   <a href='file:///c%3A/Users/Ludvins/Documents/DeepVIP/.venv/lib/site-packages/torch/nn/modules/module.py?line=1100'>1101</a>\u001b[0m         \u001b[39mor\u001b[39;00m _global_forward_hooks \u001b[39mor\u001b[39;00m _global_forward_pre_hooks):\n\u001b[1;32m-> <a href='file:///c%3A/Users/Ludvins/Documents/DeepVIP/.venv/lib/site-packages/torch/nn/modules/module.py?line=1101'>1102</a>\u001b[0m     \u001b[39mreturn\u001b[39;00m forward_call(\u001b[39m*\u001b[39m\u001b[39minput\u001b[39m, \u001b[39m*\u001b[39m\u001b[39m*\u001b[39mkwargs)\n\u001b[0;32m   <a href='file:///c%3A/Users/Ludvins/Documents/DeepVIP/.venv/lib/site-packages/torch/nn/modules/module.py?line=1102'>1103</a>\u001b[0m \u001b[39m# Do not call functions when jit is used\u001b[39;00m\n\u001b[0;32m   <a href='file:///c%3A/Users/Ludvins/Documents/DeepVIP/.venv/lib/site-packages/torch/nn/modules/module.py?line=1103'>1104</a>\u001b[0m full_backward_hooks, non_full_backward_hooks \u001b[39m=\u001b[39m [], []\n",
      "File \u001b[1;32mc:\\Users\\Ludvins\\Documents\\DeepVIP\\results\\..\\src\\dvip.py:202\u001b[0m, in \u001b[0;36mDVIP_Base.forward\u001b[1;34m(self, predict_at)\u001b[0m\n\u001b[0;32m    <a href='file:///c%3A/Users/Ludvins/Documents/DeepVIP/results/../src/dvip.py?line=198'>199</a>\u001b[0m \u001b[39mif\u001b[39;00m \u001b[39mself\u001b[39m\u001b[39m.\u001b[39mdtype \u001b[39m!=\u001b[39m predict_at\u001b[39m.\u001b[39mdtype:\n\u001b[0;32m    <a href='file:///c%3A/Users/Ludvins/Documents/DeepVIP/results/../src/dvip.py?line=199'>200</a>\u001b[0m     predict_at \u001b[39m=\u001b[39m predict_at\u001b[39m.\u001b[39mto(\u001b[39mself\u001b[39m\u001b[39m.\u001b[39mdtype)       \n\u001b[1;32m--> <a href='file:///c%3A/Users/Ludvins/Documents/DeepVIP/results/../src/dvip.py?line=201'>202</a>\u001b[0m mean, var \u001b[39m=\u001b[39m \u001b[39mself\u001b[39;49m\u001b[39m.\u001b[39;49mpredict_y(predict_at, \u001b[39mself\u001b[39;49m\u001b[39m.\u001b[39;49mnum_samples)\n\u001b[0;32m    <a href='file:///c%3A/Users/Ludvins/Documents/DeepVIP/results/../src/dvip.py?line=202'>203</a>\u001b[0m \u001b[39m# Return predictions scaled to the original scale.\u001b[39;00m\n\u001b[0;32m    <a href='file:///c%3A/Users/Ludvins/Documents/DeepVIP/results/../src/dvip.py?line=203'>204</a>\u001b[0m \u001b[39mreturn\u001b[39;00m mean \u001b[39m*\u001b[39m \u001b[39mself\u001b[39m\u001b[39m.\u001b[39my_std \u001b[39m+\u001b[39m \u001b[39mself\u001b[39m\u001b[39m.\u001b[39my_mean, torch\u001b[39m.\u001b[39msqrt(var) \u001b[39m*\u001b[39m \u001b[39mself\u001b[39m\u001b[39m.\u001b[39my_std\n",
      "File \u001b[1;32mc:\\Users\\Ludvins\\Documents\\DeepVIP\\results\\..\\src\\dvip.py:335\u001b[0m, in \u001b[0;36mDVIP_Base.predict_y\u001b[1;34m(self, predict_at, num_samples)\u001b[0m\n\u001b[0;32m    <a href='file:///c%3A/Users/Ludvins/Documents/DeepVIP/results/../src/dvip.py?line=314'>315</a>\u001b[0m \u001b[39m\"\"\"\u001b[39;00m\n\u001b[0;32m    <a href='file:///c%3A/Users/Ludvins/Documents/DeepVIP/results/../src/dvip.py?line=315'>316</a>\u001b[0m \u001b[39mReturns the predicted mean and variance for the given inputs.\u001b[39;00m\n\u001b[0;32m    <a href='file:///c%3A/Users/Ludvins/Documents/DeepVIP/results/../src/dvip.py?line=316'>317</a>\u001b[0m \u001b[39mTakes the predictions from the last layer and considers\u001b[39;00m\n\u001b[1;32m   (...)\u001b[0m\n\u001b[0;32m    <a href='file:///c%3A/Users/Ludvins/Documents/DeepVIP/results/../src/dvip.py?line=331'>332</a>\u001b[0m \u001b[39m        Contains the standard deviation of the predictions.\u001b[39;00m\n\u001b[0;32m    <a href='file:///c%3A/Users/Ludvins/Documents/DeepVIP/results/../src/dvip.py?line=332'>333</a>\u001b[0m \u001b[39m\"\"\"\u001b[39;00m\n\u001b[0;32m    <a href='file:///c%3A/Users/Ludvins/Documents/DeepVIP/results/../src/dvip.py?line=333'>334</a>\u001b[0m Fmean, Fvar \u001b[39m=\u001b[39m \u001b[39mself\u001b[39m\u001b[39m.\u001b[39mpredict_f(predict_at, num_samples\u001b[39m=\u001b[39mnum_samples)\n\u001b[1;32m--> <a href='file:///c%3A/Users/Ludvins/Documents/DeepVIP/results/../src/dvip.py?line=334'>335</a>\u001b[0m \u001b[39mreturn\u001b[39;00m \u001b[39mself\u001b[39;49m\u001b[39m.\u001b[39;49mlikelihood\u001b[39m.\u001b[39;49mpredict_mean_and_var(Fmean, Fvar)\n",
      "File \u001b[1;32mc:\\Users\\Ludvins\\Documents\\DeepVIP\\results\\..\\src\\likelihood.py:527\u001b[0m, in \u001b[0;36mBroadcastedLikelihood.predict_mean_and_var\u001b[1;34m(self, Fmu, Fvar)\u001b[0m\n\u001b[0;32m    <a href='file:///c%3A/Users/Ludvins/Documents/DeepVIP/results/../src/likelihood.py?line=522'>523</a>\u001b[0m \u001b[39mdef\u001b[39;00m \u001b[39mpredict_mean_and_var\u001b[39m(\u001b[39mself\u001b[39m, Fmu, Fvar):\n\u001b[0;32m    <a href='file:///c%3A/Users/Ludvins/Documents/DeepVIP/results/../src/likelihood.py?line=523'>524</a>\u001b[0m     f \u001b[39m=\u001b[39m \u001b[39mlambda\u001b[39;00m vars_SND, vars_ND: \u001b[39mself\u001b[39m\u001b[39m.\u001b[39mlikelihood\u001b[39m.\u001b[39mpredict_mean_and_var(\n\u001b[0;32m    <a href='file:///c%3A/Users/Ludvins/Documents/DeepVIP/results/../src/likelihood.py?line=524'>525</a>\u001b[0m         vars_SND[\u001b[39m0\u001b[39m], vars_SND[\u001b[39m1\u001b[39m]\n\u001b[0;32m    <a href='file:///c%3A/Users/Ludvins/Documents/DeepVIP/results/../src/likelihood.py?line=525'>526</a>\u001b[0m     )\n\u001b[1;32m--> <a href='file:///c%3A/Users/Ludvins/Documents/DeepVIP/results/../src/likelihood.py?line=526'>527</a>\u001b[0m     \u001b[39mreturn\u001b[39;00m \u001b[39mself\u001b[39;49m\u001b[39m.\u001b[39;49m_broadcast(f, [Fmu, Fvar], [])\n",
      "File \u001b[1;32mc:\\Users\\Ludvins\\Documents\\DeepVIP\\results\\..\\src\\likelihood.py:491\u001b[0m, in \u001b[0;36mBroadcastedLikelihood._broadcast\u001b[1;34m(self, f, vars_SND, vars_ND)\u001b[0m\n\u001b[0;32m    <a href='file:///c%3A/Users/Ludvins/Documents/DeepVIP/results/../src/likelihood.py?line=487'>488</a>\u001b[0m flattened_SND \u001b[39m=\u001b[39m [torch\u001b[39m.\u001b[39mreshape(x, [S \u001b[39m*\u001b[39m N, D]) \u001b[39mfor\u001b[39;00m x \u001b[39min\u001b[39;00m vars_SND]\n\u001b[0;32m    <a href='file:///c%3A/Users/Ludvins/Documents/DeepVIP/results/../src/likelihood.py?line=488'>489</a>\u001b[0m flattened_tiled \u001b[39m=\u001b[39m [torch\u001b[39m.\u001b[39mreshape(x, [S \u001b[39m*\u001b[39m N, \u001b[39m-\u001b[39m\u001b[39m1\u001b[39m]) \u001b[39mfor\u001b[39;00m x \u001b[39min\u001b[39;00m vars_tiled]\n\u001b[1;32m--> <a href='file:///c%3A/Users/Ludvins/Documents/DeepVIP/results/../src/likelihood.py?line=490'>491</a>\u001b[0m flattened_result \u001b[39m=\u001b[39m f(flattened_SND, flattened_tiled)\n\u001b[0;32m    <a href='file:///c%3A/Users/Ludvins/Documents/DeepVIP/results/../src/likelihood.py?line=491'>492</a>\u001b[0m \u001b[39mif\u001b[39;00m \u001b[39misinstance\u001b[39m(flattened_result, \u001b[39mtuple\u001b[39m):\n\u001b[0;32m    <a href='file:///c%3A/Users/Ludvins/Documents/DeepVIP/results/../src/likelihood.py?line=492'>493</a>\u001b[0m     \u001b[39mreturn\u001b[39;00m [torch\u001b[39m.\u001b[39mreshape(x, [S, N, \u001b[39m-\u001b[39m\u001b[39m1\u001b[39m]) \u001b[39mfor\u001b[39;00m x \u001b[39min\u001b[39;00m flattened_result]\n",
      "File \u001b[1;32mc:\\Users\\Ludvins\\Documents\\DeepVIP\\results\\..\\src\\likelihood.py:524\u001b[0m, in \u001b[0;36mBroadcastedLikelihood.predict_mean_and_var.<locals>.<lambda>\u001b[1;34m(vars_SND, vars_ND)\u001b[0m\n\u001b[0;32m    <a href='file:///c%3A/Users/Ludvins/Documents/DeepVIP/results/../src/likelihood.py?line=522'>523</a>\u001b[0m \u001b[39mdef\u001b[39;00m \u001b[39mpredict_mean_and_var\u001b[39m(\u001b[39mself\u001b[39m, Fmu, Fvar):\n\u001b[1;32m--> <a href='file:///c%3A/Users/Ludvins/Documents/DeepVIP/results/../src/likelihood.py?line=523'>524</a>\u001b[0m     f \u001b[39m=\u001b[39m \u001b[39mlambda\u001b[39;00m vars_SND, vars_ND: \u001b[39mself\u001b[39;49m\u001b[39m.\u001b[39;49mlikelihood\u001b[39m.\u001b[39;49mpredict_mean_and_var(\n\u001b[0;32m    <a href='file:///c%3A/Users/Ludvins/Documents/DeepVIP/results/../src/likelihood.py?line=524'>525</a>\u001b[0m         vars_SND[\u001b[39m0\u001b[39;49m], vars_SND[\u001b[39m1\u001b[39;49m]\n\u001b[0;32m    <a href='file:///c%3A/Users/Ludvins/Documents/DeepVIP/results/../src/likelihood.py?line=525'>526</a>\u001b[0m     )\n\u001b[0;32m    <a href='file:///c%3A/Users/Ludvins/Documents/DeepVIP/results/../src/likelihood.py?line=526'>527</a>\u001b[0m     \u001b[39mreturn\u001b[39;00m \u001b[39mself\u001b[39m\u001b[39m.\u001b[39m_broadcast(f, [Fmu, Fvar], [])\n",
      "File \u001b[1;32mc:\\Users\\Ludvins\\Documents\\DeepVIP\\results\\..\\src\\likelihood.py:336\u001b[0m, in \u001b[0;36mMultiClass.predict_mean_and_var\u001b[1;34m(self, Fmu, Fvar)\u001b[0m\n\u001b[0;32m    <a href='file:///c%3A/Users/Ludvins/Documents/DeepVIP/results/../src/likelihood.py?line=331'>332</a>\u001b[0m possible_outputs \u001b[39m=\u001b[39m [\n\u001b[0;32m    <a href='file:///c%3A/Users/Ludvins/Documents/DeepVIP/results/../src/likelihood.py?line=332'>333</a>\u001b[0m     torch\u001b[39m.\u001b[39mfull([Fmu\u001b[39m.\u001b[39msize()[\u001b[39m0\u001b[39m], \u001b[39m1\u001b[39m], i) \u001b[39mfor\u001b[39;00m i \u001b[39min\u001b[39;00m \u001b[39mrange\u001b[39m(\u001b[39mself\u001b[39m\u001b[39m.\u001b[39mnum_classes)\n\u001b[0;32m    <a href='file:///c%3A/Users/Ludvins/Documents/DeepVIP/results/../src/likelihood.py?line=333'>334</a>\u001b[0m ]\n\u001b[0;32m    <a href='file:///c%3A/Users/Ludvins/Documents/DeepVIP/results/../src/likelihood.py?line=334'>335</a>\u001b[0m \u001b[39m# Size (n_classes, n_data)\u001b[39;00m\n\u001b[1;32m--> <a href='file:///c%3A/Users/Ludvins/Documents/DeepVIP/results/../src/likelihood.py?line=335'>336</a>\u001b[0m ps \u001b[39m=\u001b[39m [\u001b[39mself\u001b[39m\u001b[39m.\u001b[39mpredict_density(Fmu, Fvar, po) \u001b[39mfor\u001b[39;00m po \u001b[39min\u001b[39;00m possible_outputs]\n\u001b[0;32m    <a href='file:///c%3A/Users/Ludvins/Documents/DeepVIP/results/../src/likelihood.py?line=336'>337</a>\u001b[0m \u001b[39m# Shape (n_data, n_classes)\u001b[39;00m\n\u001b[0;32m    <a href='file:///c%3A/Users/Ludvins/Documents/DeepVIP/results/../src/likelihood.py?line=337'>338</a>\u001b[0m ps \u001b[39m=\u001b[39m torch\u001b[39m.\u001b[39mconcat(ps, dim\u001b[39m=\u001b[39m\u001b[39m1\u001b[39m)\n",
      "File \u001b[1;32mc:\\Users\\Ludvins\\Documents\\DeepVIP\\results\\..\\src\\likelihood.py:336\u001b[0m, in \u001b[0;36m<listcomp>\u001b[1;34m(.0)\u001b[0m\n\u001b[0;32m    <a href='file:///c%3A/Users/Ludvins/Documents/DeepVIP/results/../src/likelihood.py?line=331'>332</a>\u001b[0m possible_outputs \u001b[39m=\u001b[39m [\n\u001b[0;32m    <a href='file:///c%3A/Users/Ludvins/Documents/DeepVIP/results/../src/likelihood.py?line=332'>333</a>\u001b[0m     torch\u001b[39m.\u001b[39mfull([Fmu\u001b[39m.\u001b[39msize()[\u001b[39m0\u001b[39m], \u001b[39m1\u001b[39m], i) \u001b[39mfor\u001b[39;00m i \u001b[39min\u001b[39;00m \u001b[39mrange\u001b[39m(\u001b[39mself\u001b[39m\u001b[39m.\u001b[39mnum_classes)\n\u001b[0;32m    <a href='file:///c%3A/Users/Ludvins/Documents/DeepVIP/results/../src/likelihood.py?line=333'>334</a>\u001b[0m ]\n\u001b[0;32m    <a href='file:///c%3A/Users/Ludvins/Documents/DeepVIP/results/../src/likelihood.py?line=334'>335</a>\u001b[0m \u001b[39m# Size (n_classes, n_data)\u001b[39;00m\n\u001b[1;32m--> <a href='file:///c%3A/Users/Ludvins/Documents/DeepVIP/results/../src/likelihood.py?line=335'>336</a>\u001b[0m ps \u001b[39m=\u001b[39m [\u001b[39mself\u001b[39;49m\u001b[39m.\u001b[39;49mpredict_density(Fmu, Fvar, po) \u001b[39mfor\u001b[39;00m po \u001b[39min\u001b[39;00m possible_outputs]\n\u001b[0;32m    <a href='file:///c%3A/Users/Ludvins/Documents/DeepVIP/results/../src/likelihood.py?line=336'>337</a>\u001b[0m \u001b[39m# Shape (n_data, n_classes)\u001b[39;00m\n\u001b[0;32m    <a href='file:///c%3A/Users/Ludvins/Documents/DeepVIP/results/../src/likelihood.py?line=337'>338</a>\u001b[0m ps \u001b[39m=\u001b[39m torch\u001b[39m.\u001b[39mconcat(ps, dim\u001b[39m=\u001b[39m\u001b[39m1\u001b[39m)\n",
      "File \u001b[1;32mc:\\Users\\Ludvins\\Documents\\DeepVIP\\results\\..\\src\\likelihood.py:406\u001b[0m, in \u001b[0;36mMultiClass.predict_density\u001b[1;34m(self, Fmu, Fvar, Y)\u001b[0m\n\u001b[0;32m    <a href='file:///c%3A/Users/Ludvins/Documents/DeepVIP/results/../src/likelihood.py?line=404'>405</a>\u001b[0m \u001b[39mdef\u001b[39;00m \u001b[39mpredict_density\u001b[39m(\u001b[39mself\u001b[39m, Fmu, Fvar, Y):\n\u001b[1;32m--> <a href='file:///c%3A/Users/Ludvins/Documents/DeepVIP/results/../src/likelihood.py?line=405'>406</a>\u001b[0m     p \u001b[39m=\u001b[39m \u001b[39mself\u001b[39;49m\u001b[39m.\u001b[39;49mprob_is_largest(Y, Fmu, Fvar)\n\u001b[0;32m    <a href='file:///c%3A/Users/Ludvins/Documents/DeepVIP/results/../src/likelihood.py?line=406'>407</a>\u001b[0m     \u001b[39mreturn\u001b[39;00m p \u001b[39m*\u001b[39m (\u001b[39m1\u001b[39m \u001b[39m-\u001b[39m \u001b[39mself\u001b[39m\u001b[39m.\u001b[39mepsilon) \u001b[39m+\u001b[39m (\u001b[39m1.0\u001b[39m \u001b[39m-\u001b[39m p) \u001b[39m*\u001b[39m (\u001b[39mself\u001b[39m\u001b[39m.\u001b[39mK1)\n",
      "File \u001b[1;32mc:\\Users\\Ludvins\\Documents\\DeepVIP\\results\\..\\src\\likelihood.py:371\u001b[0m, in \u001b[0;36mMultiClass.prob_is_largest\u001b[1;34m(self, Y, Fmu, Fvar)\u001b[0m\n\u001b[0;32m    <a href='file:///c%3A/Users/Ludvins/Documents/DeepVIP/results/../src/likelihood.py?line=340'>341</a>\u001b[0m \u001b[39mdef\u001b[39;00m \u001b[39mprob_is_largest\u001b[39m(\u001b[39mself\u001b[39m, Y, Fmu, Fvar):\n\u001b[0;32m    <a href='file:///c%3A/Users/Ludvins/Documents/DeepVIP/results/../src/likelihood.py?line=341'>342</a>\u001b[0m     \u001b[39m\"\"\"\u001b[39;00m\n\u001b[0;32m    <a href='file:///c%3A/Users/Ludvins/Documents/DeepVIP/results/../src/likelihood.py?line=342'>343</a>\u001b[0m \u001b[39m    Computes the probability of the true class Y of being chosen as the\u001b[39;00m\n\u001b[0;32m    <a href='file:///c%3A/Users/Ludvins/Documents/DeepVIP/results/../src/likelihood.py?line=343'>344</a>\u001b[0m \u001b[39m    final prediction. The latent function is supposed to follow a Gaussian\u001b[39;00m\n\u001b[1;32m   (...)\u001b[0m\n\u001b[0;32m    <a href='file:///c%3A/Users/Ludvins/Documents/DeepVIP/results/../src/likelihood.py?line=367'>368</a>\u001b[0m \u001b[39m          correct class.\u001b[39;00m\n\u001b[0;32m    <a href='file:///c%3A/Users/Ludvins/Documents/DeepVIP/results/../src/likelihood.py?line=368'>369</a>\u001b[0m \u001b[39m    \"\"\"\u001b[39;00m\n\u001b[1;32m--> <a href='file:///c%3A/Users/Ludvins/Documents/DeepVIP/results/../src/likelihood.py?line=370'>371</a>\u001b[0m     gh_x, gh_w \u001b[39m=\u001b[39m hermgauss(\u001b[39mself\u001b[39;49m\u001b[39m.\u001b[39;49mnum_gauss_hermite_points, \u001b[39mself\u001b[39;49m\u001b[39m.\u001b[39;49mdtype, \u001b[39mself\u001b[39;49m\u001b[39m.\u001b[39;49mdevice)\n\u001b[0;32m    <a href='file:///c%3A/Users/Ludvins/Documents/DeepVIP/results/../src/likelihood.py?line=372'>373</a>\u001b[0m     \u001b[39m# Work out what the mean and variance is of the indicated latent function.\u001b[39;00m\n\u001b[0;32m    <a href='file:///c%3A/Users/Ludvins/Documents/DeepVIP/results/../src/likelihood.py?line=373'>374</a>\u001b[0m     \u001b[39m# Shape (num_samples, num_classes)\u001b[39;00m\n\u001b[0;32m    <a href='file:///c%3A/Users/Ludvins/Documents/DeepVIP/results/../src/likelihood.py?line=374'>375</a>\u001b[0m     oh_on \u001b[39m=\u001b[39m one_hot(Y\u001b[39m.\u001b[39mlong()\u001b[39m.\u001b[39mflatten(), \u001b[39mself\u001b[39m\u001b[39m.\u001b[39mnum_classes)\n",
      "File \u001b[1;32mc:\\Users\\Ludvins\\Documents\\DeepVIP\\results\\..\\src\\quadrature.py:11\u001b[0m, in \u001b[0;36mhermgauss\u001b[1;34m(n, dtype, device)\u001b[0m\n\u001b[0;32m      <a href='file:///c%3A/Users/Ludvins/Documents/DeepVIP/results/../src/quadrature.py?line=7'>8</a>\u001b[0m \u001b[39mdef\u001b[39;00m \u001b[39mhermgauss\u001b[39m(n, dtype, device):\n\u001b[0;32m      <a href='file:///c%3A/Users/Ludvins/Documents/DeepVIP/results/../src/quadrature.py?line=8'>9</a>\u001b[0m     \u001b[39m# Return the locations and weights of GH quadrature\u001b[39;00m\n\u001b[0;32m     <a href='file:///c%3A/Users/Ludvins/Documents/DeepVIP/results/../src/quadrature.py?line=9'>10</a>\u001b[0m     x, w \u001b[39m=\u001b[39m np\u001b[39m.\u001b[39mpolynomial\u001b[39m.\u001b[39mhermite\u001b[39m.\u001b[39mhermgauss(n)\n\u001b[1;32m---> <a href='file:///c%3A/Users/Ludvins/Documents/DeepVIP/results/../src/quadrature.py?line=10'>11</a>\u001b[0m     \u001b[39mreturn\u001b[39;00m (torch\u001b[39m.\u001b[39;49mtensor(x, dtype\u001b[39m=\u001b[39;49mdtype, device \u001b[39m=\u001b[39;49m device),\n\u001b[0;32m     <a href='file:///c%3A/Users/Ludvins/Documents/DeepVIP/results/../src/quadrature.py?line=11'>12</a>\u001b[0m             torch\u001b[39m.\u001b[39mtensor(w, dtype\u001b[39m=\u001b[39mdtype, device \u001b[39m=\u001b[39m device))\n",
      "\u001b[1;31mKeyboardInterrupt\u001b[0m: "
     ]
    }
   ],
   "source": [
    "# Define optimizer and compile model\n",
    "opt = torch.optim.Adam(dvip.parameters(), lr=0.001)\n",
    "\n",
    "# Perform training\n",
    "train_hist, val_hist = fit_with_metrics(\n",
    "    dvip,\n",
    "    train_loader,\n",
    "    opt,\n",
    "    metrics,\n",
    "    val_generator=val_loader,\n",
    "    epochs=100,\n",
    "    device=device,\n",
    ")"
   ]
  },
  {
   "cell_type": "code",
   "execution_count": null,
   "metadata": {},
   "outputs": [],
   "source": []
  },
  {
   "cell_type": "code",
   "execution_count": null,
   "metadata": {},
   "outputs": [],
   "source": []
  }
 ],
 "metadata": {
  "interpreter": {
   "hash": "7d22d6b27a92cd994f9e31f4a97960133434df2a462e6e0a555d37d81245812e"
  },
  "kernelspec": {
   "display_name": "Python 3.9.7 ('.venv': venv)",
   "language": "python",
   "name": "python3"
  },
  "language_info": {
   "codemirror_mode": {
    "name": "ipython",
    "version": 3
   },
   "file_extension": ".py",
   "mimetype": "text/x-python",
   "name": "python",
   "nbconvert_exporter": "python",
   "pygments_lexer": "ipython3",
   "version": "3.9.7"
  },
  "orig_nbformat": 4
 },
 "nbformat": 4,
 "nbformat_minor": 2
}
