{
 "cells": [
  {
   "cell_type": "code",
   "execution_count": 1,
   "metadata": {},
   "outputs": [],
   "source": [
    "import os\n",
    "import glob\n",
    "import pandas as pd\n",
    "os.chdir(\".\")"
   ]
  },
  {
   "cell_type": "code",
   "execution_count": 7,
   "metadata": {},
   "outputs": [],
   "source": [
    "res1 = [i for i in glob.glob('extrapolation/*.csv')]\n",
    "df = pd.concat([pd.read_csv(f) for f in res1 ])\n",
    "df = df.loc[:, (df != df.iloc[0]).any()] "
   ]
  },
  {
   "cell_type": "code",
   "execution_count": 8,
   "metadata": {},
   "outputs": [],
   "source": [
    "df = df.drop([\"name_flag\", \"dataset\", \"activation\", \"final_layer_noise\"], axis=1)"
   ]
  },
  {
   "cell_type": "code",
   "execution_count": 9,
   "metadata": {},
   "outputs": [],
   "source": [
    "df.drop_duplicates(inplace = True)"
   ]
  },
  {
   "cell_type": "code",
   "execution_count": 10,
   "metadata": {},
   "outputs": [],
   "source": [
    "df.to_csv(\"dvip_extrapolation.csv\", index = False)"
   ]
  },
  {
   "cell_type": "code",
   "execution_count": 17,
   "metadata": {},
   "outputs": [
    {
     "data": {
      "text/html": [
       "<div>\n",
       "<style scoped>\n",
       "    .dataframe tbody tr th:only-of-type {\n",
       "        vertical-align: middle;\n",
       "    }\n",
       "\n",
       "    .dataframe tbody tr th {\n",
       "        vertical-align: top;\n",
       "    }\n",
       "\n",
       "    .dataframe thead th {\n",
       "        text-align: right;\n",
       "    }\n",
       "</style>\n",
       "<table border=\"1\" class=\"dataframe\">\n",
       "  <thead>\n",
       "    <tr style=\"text-align: right;\">\n",
       "      <th></th>\n",
       "      <th></th>\n",
       "      <th>epochs</th>\n",
       "      <th>split</th>\n",
       "      <th>LOSS_train</th>\n",
       "      <th>RMSE_train</th>\n",
       "      <th>NLL_train</th>\n",
       "      <th>CRPS_train</th>\n",
       "      <th>LOSS</th>\n",
       "      <th>RMSE</th>\n",
       "      <th>NLL</th>\n",
       "      <th>CRPS</th>\n",
       "    </tr>\n",
       "    <tr>\n",
       "      <th>bb_alpha</th>\n",
       "      <th>iterations</th>\n",
       "      <th></th>\n",
       "      <th></th>\n",
       "      <th></th>\n",
       "      <th></th>\n",
       "      <th></th>\n",
       "      <th></th>\n",
       "      <th></th>\n",
       "      <th></th>\n",
       "      <th></th>\n",
       "      <th></th>\n",
       "    </tr>\n",
       "  </thead>\n",
       "  <tbody>\n",
       "    <tr>\n",
       "      <th rowspan=\"3\" valign=\"top\">0.0</th>\n",
       "      <th>10000</th>\n",
       "      <td>10000</td>\n",
       "      <td>50</td>\n",
       "      <td>8.000748e+07</td>\n",
       "      <td>36.031175</td>\n",
       "      <td>5.682715</td>\n",
       "      <td>20.801676</td>\n",
       "      <td>8.000905e+07</td>\n",
       "      <td>45.494373</td>\n",
       "      <td>10.185474</td>\n",
       "      <td>31.002973</td>\n",
       "    </tr>\n",
       "    <tr>\n",
       "      <th>15000</th>\n",
       "      <td>15000</td>\n",
       "      <td>50</td>\n",
       "      <td>1.079631e+08</td>\n",
       "      <td>51.720457</td>\n",
       "      <td>5.771354</td>\n",
       "      <td>30.605550</td>\n",
       "      <td>1.079515e+08</td>\n",
       "      <td>64.128276</td>\n",
       "      <td>8.739185</td>\n",
       "      <td>44.340137</td>\n",
       "    </tr>\n",
       "    <tr>\n",
       "      <th>20000</th>\n",
       "      <td>20000</td>\n",
       "      <td>50</td>\n",
       "      <td>1.251958e+08</td>\n",
       "      <td>63.718824</td>\n",
       "      <td>6.439083</td>\n",
       "      <td>37.907903</td>\n",
       "      <td>1.251968e+08</td>\n",
       "      <td>78.941075</td>\n",
       "      <td>9.591720</td>\n",
       "      <td>55.355998</td>\n",
       "    </tr>\n",
       "    <tr>\n",
       "      <th>1.0</th>\n",
       "      <th>10000</th>\n",
       "      <td>10000</td>\n",
       "      <td>50</td>\n",
       "      <td>1.199710e+03</td>\n",
       "      <td>53.991033</td>\n",
       "      <td>3.784315</td>\n",
       "      <td>31.703924</td>\n",
       "      <td>1.425170e+03</td>\n",
       "      <td>61.683664</td>\n",
       "      <td>4.832859</td>\n",
       "      <td>40.733632</td>\n",
       "    </tr>\n",
       "  </tbody>\n",
       "</table>\n",
       "</div>"
      ],
      "text/plain": [
       "                     epochs  split    LOSS_train  RMSE_train  NLL_train  \\\n",
       "bb_alpha iterations                                                       \n",
       "0.0      10000        10000     50  8.000748e+07   36.031175   5.682715   \n",
       "         15000        15000     50  1.079631e+08   51.720457   5.771354   \n",
       "         20000        20000     50  1.251958e+08   63.718824   6.439083   \n",
       "1.0      10000        10000     50  1.199710e+03   53.991033   3.784315   \n",
       "\n",
       "                     CRPS_train          LOSS       RMSE        NLL       CRPS  \n",
       "bb_alpha iterations                                                             \n",
       "0.0      10000        20.801676  8.000905e+07  45.494373  10.185474  31.002973  \n",
       "         15000        30.605550  1.079515e+08  64.128276   8.739185  44.340137  \n",
       "         20000        37.907903  1.251968e+08  78.941075   9.591720  55.355998  \n",
       "1.0      10000        31.703924  1.425170e+03  61.683664   4.832859  40.733632  "
      ]
     },
     "execution_count": 17,
     "metadata": {},
     "output_type": "execute_result"
    }
   ],
   "source": [
    "df.groupby([\"bb_alpha\", \"iterations\"]).mean()"
   ]
  },
  {
   "cell_type": "code",
   "execution_count": 12,
   "metadata": {},
   "outputs": [],
   "source": [
    "import seaborn as sns\n",
    "import matplotlib.pyplot as plt"
   ]
  },
  {
   "cell_type": "code",
   "execution_count": 29,
   "metadata": {},
   "outputs": [
    {
     "data": {
      "image/png": "[encoded data removed]",
      "text/plain": [
       "<Figure size 432x288 with 1 Axes>"
      ]
     },
     "metadata": {
      "needs_background": "light"
     },
     "output_type": "display_data"
    }
   ],
   "source": [
    "grid = sns.lineplot(data = df.query(\"bb_alpha == 1.0 and iterations == 10000 and split > 30\"), x = \"split\", y = \"RMSE\", hue = \"vip_layers\", legend=False, palette = \"Set2\")\n",
    "grid.set(yscale=\"log\")\n",
    "plt.legend(title='Layers', loc='best', labels=['1', '2', '3']);\n",
    "plt.xlabel(\"Proportion of training data (%)\");\n"
   ]
  },
  {
   "cell_type": "code",
   "execution_count": null,
   "metadata": {},
   "outputs": [],
   "source": []
  }
 ],
 "metadata": {
  "interpreter": {
   "hash": "7d22d6b27a92cd994f9e31f4a97960133434df2a462e6e0a555d37d81245812e"
  },
  "kernelspec": {
   "display_name": "Python 3 (ipykernel)",
   "language": "python",
   "name": "python3"
  },
  "language_info": {
   "codemirror_mode": {
    "name": "ipython",
    "version": 3
   },
   "file_extension": ".py",
   "mimetype": "text/x-python",
   "name": "python",
   "nbconvert_exporter": "python",
   "pygments_lexer": "ipython3",
   "version": "3.9.7"
  }
 },
 "nbformat": 4,
 "nbformat_minor": 4
}
