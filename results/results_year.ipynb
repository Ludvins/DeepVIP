{
 "cells": [
  {
   "cell_type": "code",
   "execution_count": 1,
   "metadata": {},
   "outputs": [],
   "source": [
    "import os\n",
    "import glob\n",
    "import pandas as pd\n",
    "os.chdir(\".\")"
   ]
  },
  {
   "cell_type": "code",
   "execution_count": 5,
   "metadata": {},
   "outputs": [],
   "source": [
    "res = [i for i in glob.glob('DVIP_Year/*')]\n",
    "df = []\n",
    "for f in res:\n",
    "    try: \n",
    "        df.append(pd.read_csv(f))\n",
    "    except:\n",
    "        continue\n",
    "df = pd.concat(df)\n",
    "df = df.loc[:, (df != df.iloc[0]).any()] \n",
    "df = df.drop([\"dataset\", \"activation\", \"final_layer_noise\"], axis=1)\n",
    "df.drop_duplicates(inplace = True)\n",
    "df.to_csv(\"DVIP_Year.csv\", index = False)"
   ]
  },
  {
   "cell_type": "code",
   "execution_count": 6,
   "metadata": {},
   "outputs": [],
   "source": [
    "res2 = [i for i in glob.glob('DGP_Year/*')]\n",
    "df2 = pd.concat([pd.read_csv(f) for f in res2 ]).drop([\"Unnamed: 0\"], axis = 1)\n",
    "df2.to_csv(\"DGP_Year.csv\", index = False)"
   ]
  },
  {
   "cell_type": "markdown",
   "metadata": {},
   "source": [
    "# DVIP"
   ]
  },
  {
   "cell_type": "code",
   "execution_count": 7,
   "metadata": {},
   "outputs": [
    {
     "data": {
      "text/html": [
       "<div>\n",
       "<style scoped>\n",
       "    .dataframe tbody tr th:only-of-type {\n",
       "        vertical-align: middle;\n",
       "    }\n",
       "\n",
       "    .dataframe tbody tr th {\n",
       "        vertical-align: top;\n",
       "    }\n",
       "\n",
       "    .dataframe thead th {\n",
       "        text-align: right;\n",
       "    }\n",
       "</style>\n",
       "<table border=\"1\" class=\"dataframe\">\n",
       "  <thead>\n",
       "    <tr style=\"text-align: right;\">\n",
       "      <th></th>\n",
       "      <th>vip_layers</th>\n",
       "      <th>time</th>\n",
       "      <th>LOSS</th>\n",
       "      <th>RMSE</th>\n",
       "      <th>NLL</th>\n",
       "      <th>CRPS</th>\n",
       "    </tr>\n",
       "  </thead>\n",
       "  <tbody>\n",
       "    <tr>\n",
       "      <th>0</th>\n",
       "      <td>[1]</td>\n",
       "      <td>2589.561991</td>\n",
       "      <td>229.330414</td>\n",
       "      <td>10.236126</td>\n",
       "      <td>3.744894</td>\n",
       "      <td>5.457592</td>\n",
       "    </tr>\n",
       "    <tr>\n",
       "      <th>0</th>\n",
       "      <td>[2]</td>\n",
       "      <td>14901.221817</td>\n",
       "      <td>2522.897949</td>\n",
       "      <td>9.630733</td>\n",
       "      <td>3.683365</td>\n",
       "      <td>5.111170</td>\n",
       "    </tr>\n",
       "    <tr>\n",
       "      <th>0</th>\n",
       "      <td>[3]</td>\n",
       "      <td>21209.721372</td>\n",
       "      <td>4269.711914</td>\n",
       "      <td>9.240750</td>\n",
       "      <td>3.640152</td>\n",
       "      <td>4.879541</td>\n",
       "    </tr>\n",
       "    <tr>\n",
       "      <th>0</th>\n",
       "      <td>[4]</td>\n",
       "      <td>13477.925270</td>\n",
       "      <td>4830.055664</td>\n",
       "      <td>9.208208</td>\n",
       "      <td>3.636648</td>\n",
       "      <td>4.857850</td>\n",
       "    </tr>\n",
       "    <tr>\n",
       "      <th>0</th>\n",
       "      <td>[5]</td>\n",
       "      <td>70041.112961</td>\n",
       "      <td>4506.303711</td>\n",
       "      <td>9.302427</td>\n",
       "      <td>3.645826</td>\n",
       "      <td>4.894062</td>\n",
       "    </tr>\n",
       "  </tbody>\n",
       "</table>\n",
       "</div>"
      ],
      "text/plain": [
       "  vip_layers          time         LOSS       RMSE       NLL      CRPS\n",
       "0        [1]   2589.561991   229.330414  10.236126  3.744894  5.457592\n",
       "0        [2]  14901.221817  2522.897949   9.630733  3.683365  5.111170\n",
       "0        [3]  21209.721372  4269.711914   9.240750  3.640152  4.879541\n",
       "0        [4]  13477.925270  4830.055664   9.208208  3.636648  4.857850\n",
       "0        [5]  70041.112961  4506.303711   9.302427  3.645826  4.894062"
      ]
     },
     "execution_count": 7,
     "metadata": {},
     "output_type": "execute_result"
    }
   ],
   "source": [
    "df"
   ]
  },
  {
   "cell_type": "markdown",
   "metadata": {},
   "source": [
    "# DGP"
   ]
  },
  {
   "cell_type": "code",
   "execution_count": 9,
   "metadata": {},
   "outputs": [
    {
     "data": {
      "text/html": [
       "<div>\n",
       "<style scoped>\n",
       "    .dataframe tbody tr th:only-of-type {\n",
       "        vertical-align: middle;\n",
       "    }\n",
       "\n",
       "    .dataframe tbody tr th {\n",
       "        vertical-align: top;\n",
       "    }\n",
       "\n",
       "    .dataframe thead th {\n",
       "        text-align: right;\n",
       "    }\n",
       "</style>\n",
       "<table border=\"1\" class=\"dataframe\">\n",
       "  <thead>\n",
       "    <tr style=\"text-align: right;\">\n",
       "      <th></th>\n",
       "      <th>split</th>\n",
       "      <th>layers</th>\n",
       "      <th>iterations</th>\n",
       "      <th>batch</th>\n",
       "      <th>dataset</th>\n",
       "      <th>NLL</th>\n",
       "      <th>RMSE</th>\n",
       "      <th>CRPS</th>\n",
       "      <th>time</th>\n",
       "    </tr>\n",
       "  </thead>\n",
       "  <tbody>\n",
       "    <tr>\n",
       "      <th>0</th>\n",
       "      <td>0</td>\n",
       "      <td>1</td>\n",
       "      <td>150000</td>\n",
       "      <td>100</td>\n",
       "      <td>year</td>\n",
       "      <td>3.628939</td>\n",
       "      <td>9.119720</td>\n",
       "      <td>4.826032</td>\n",
       "      <td>1374.172678</td>\n",
       "    </tr>\n",
       "    <tr>\n",
       "      <th>0</th>\n",
       "      <td>0</td>\n",
       "      <td>2</td>\n",
       "      <td>150000</td>\n",
       "      <td>100</td>\n",
       "      <td>year</td>\n",
       "      <td>3.609139</td>\n",
       "      <td>8.956029</td>\n",
       "      <td>4.719559</td>\n",
       "      <td>40341.824077</td>\n",
       "    </tr>\n",
       "    <tr>\n",
       "      <th>0</th>\n",
       "      <td>0</td>\n",
       "      <td>3</td>\n",
       "      <td>150000</td>\n",
       "      <td>100</td>\n",
       "      <td>year</td>\n",
       "      <td>3.601321</td>\n",
       "      <td>8.898208</td>\n",
       "      <td>4.681045</td>\n",
       "      <td>78711.843870</td>\n",
       "    </tr>\n",
       "    <tr>\n",
       "      <th>0</th>\n",
       "      <td>0</td>\n",
       "      <td>4</td>\n",
       "      <td>150000</td>\n",
       "      <td>100</td>\n",
       "      <td>year</td>\n",
       "      <td>3.600705</td>\n",
       "      <td>8.894548</td>\n",
       "      <td>4.669147</td>\n",
       "      <td>120943.283028</td>\n",
       "    </tr>\n",
       "    <tr>\n",
       "      <th>0</th>\n",
       "      <td>0</td>\n",
       "      <td>5</td>\n",
       "      <td>150000</td>\n",
       "      <td>100</td>\n",
       "      <td>year</td>\n",
       "      <td>3.599087</td>\n",
       "      <td>8.879516</td>\n",
       "      <td>4.668420</td>\n",
       "      <td>160358.339897</td>\n",
       "    </tr>\n",
       "  </tbody>\n",
       "</table>\n",
       "</div>"
      ],
      "text/plain": [
       "   split  layers  iterations  batch dataset       NLL      RMSE      CRPS  \\\n",
       "0      0       1      150000    100    year  3.628939  9.119720  4.826032   \n",
       "0      0       2      150000    100    year  3.609139  8.956029  4.719559   \n",
       "0      0       3      150000    100    year  3.601321  8.898208  4.681045   \n",
       "0      0       4      150000    100    year  3.600705  8.894548  4.669147   \n",
       "0      0       5      150000    100    year  3.599087  8.879516  4.668420   \n",
       "\n",
       "            time  \n",
       "0    1374.172678  \n",
       "0   40341.824077  \n",
       "0   78711.843870  \n",
       "0  120943.283028  \n",
       "0  160358.339897  "
      ]
     },
     "execution_count": 9,
     "metadata": {},
     "output_type": "execute_result"
    }
   ],
   "source": [
    "df2.query(\"iterations == 150000\")"
   ]
  },
  {
   "cell_type": "code",
   "execution_count": null,
   "metadata": {},
   "outputs": [],
   "source": []
  }
 ],
 "metadata": {
  "interpreter": {
   "hash": "7d22d6b27a92cd994f9e31f4a97960133434df2a462e6e0a555d37d81245812e"
  },
  "kernelspec": {
   "display_name": "Python 3 (ipykernel)",
   "language": "python",
   "name": "python3"
  },
  "language_info": {
   "codemirror_mode": {
    "name": "ipython",
    "version": 3
   },
   "file_extension": ".py",
   "mimetype": "text/x-python",
   "name": "python",
   "nbconvert_exporter": "python",
   "pygments_lexer": "ipython3",
   "version": "3.9.7"
  }
 },
 "nbformat": 4,
 "nbformat_minor": 4
}
