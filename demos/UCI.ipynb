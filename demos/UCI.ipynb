{
 "cells": [
  {
   "cell_type": "code",
   "execution_count": null,
   "metadata": {},
   "outputs": [],
   "source": [
    "\n",
    "%load_ext autoreload\n",
    "%autoreload 2\n",
    "import torch\n",
    "from torch.utils.data import DataLoader\n",
    "import sys\n",
    "\n",
    "sys.path.append(\"..\")\n",
    "\n",
    "from src.dvip import DVIP_Base\n",
    "from src.likelihood import Gaussian\n",
    "from src.generative_functions import SimplerBayesLinear\n",
    "from src.layers_init import init_layers\n",
    "from utils.dataset import Boston_Dataset\n",
    "from utils.metrics import MetricsRegression\n",
    "from utils.pytorch_learning import fit, fit_with_metrics, score\n"
   ]
  },
  {
   "cell_type": "code",
   "execution_count": null,
   "metadata": {},
   "outputs": [],
   "source": [
    "params = {\"vip_layers\": [1],\n",
    "        \"genf\": \"BNN\",\n",
    "        \"regression_coeffs\": 20,\n",
    "        \"bnn_structure\": [10, 10],\n",
    "        \"bnn_layer\": SimplerBayesLinear,\n",
    "        \"activation\": torch.tanh,\n",
    "        \"device\": \"cpu\",\n",
    "        \"dtype\": torch.float64,\n",
    "        \"seed\": 2147483647,\n",
    "        \"fix_prior_noise\": True,\n",
    "        \"genf_full_output\": False,\n",
    "        \"final_layer_mu\": 0,\n",
    "        \"inner_layers_mu\": 0,\n",
    "        \"final_layer_sqrt\": 1,\n",
    "        \"inner_layers_sqrt\": 1e-5,\n",
    "        \"inner_layers_noise\": -5,\n",
    "        \"final_layer_noise\": None,\n",
    "        \"dropout\": 0.0,\n",
    "        \"prior_kl\": False,\n",
    "        \"zero_mean_prior\": False,\n",
    "        \"input_prop\": True,\n",
    "}"
   ]
  },
  {
   "cell_type": "code",
   "execution_count": null,
   "metadata": {},
   "outputs": [],
   "source": [
    "\n",
    "torch.manual_seed(params[\"seed\"]);"
   ]
  },
  {
   "cell_type": "code",
   "execution_count": null,
   "metadata": {},
   "outputs": [],
   "source": [
    "dataset = Boston_Dataset()\n",
    "split = 0\n",
    "train_dataset, train_test_dataset, test_dataset = dataset.get_split(test_size = 0.1, \n",
    "                                                                    seed = params[\"seed\"] + split)"
   ]
  },
  {
   "cell_type": "code",
   "execution_count": null,
   "metadata": {},
   "outputs": [],
   "source": [
    "batch_size = 100\n",
    "train_loader = DataLoader(train_dataset, batch_size=batch_size, shuffle = True)\n",
    "train_test_loader = DataLoader(train_test_dataset, batch_size=batch_size)\n",
    "test_loader = DataLoader(test_dataset, batch_size=batch_size)"
   ]
  },
  {
   "cell_type": "code",
   "execution_count": null,
   "metadata": {},
   "outputs": [],
   "source": [
    "layers = init_layers(train_dataset.inputs, dataset.output_dim, **params)\n"
   ]
  },
  {
   "cell_type": "code",
   "execution_count": null,
   "metadata": {},
   "outputs": [],
   "source": [
    "likelihood = Gaussian(dtype = params[\"dtype\"], device = params[\"device\"])"
   ]
  },
  {
   "cell_type": "code",
   "execution_count": null,
   "metadata": {},
   "outputs": [],
   "source": [
    "dvip = DVIP_Base(\n",
    "    likelihood,\n",
    "    layers,\n",
    "    len(train_dataset),\n",
    "    bb_alpha=0,\n",
    "    num_samples=1,\n",
    "    y_mean=train_dataset.targets_mean,\n",
    "    y_std=train_dataset.targets_std,\n",
    "    dtype=params[\"dtype\"],\n",
    "    device=params[\"device\"]\n",
    ")"
   ]
  },
  {
   "cell_type": "code",
   "execution_count": null,
   "metadata": {},
   "outputs": [],
   "source": [
    "# Define optimizer and compile model\n",
    "opt = torch.optim.Adam(dvip.parameters(), lr=0.001)\n",
    "\n",
    "\n",
    "fit(\n",
    "    dvip,\n",
    "    train_loader,\n",
    "    opt,\n",
    "    epochs=30000,\n",
    "    device=params[\"device\"],\n",
    ")\n"
   ]
  },
  {
   "cell_type": "code",
   "execution_count": null,
   "metadata": {},
   "outputs": [],
   "source": [
    "metrics = MetricsRegression"
   ]
  },
  {
   "cell_type": "code",
   "execution_count": null,
   "metadata": {},
   "outputs": [],
   "source": [
    "# Set the number of test samples to generate\n",
    "dvip.num_samples = 200\n",
    "\n",
    "# Test the model\n",
    "test_metrics = score(dvip, test_loader, metrics, device=params[\"device\"])\n",
    "\n",
    "print(\"TEST RESULTS: \")\n",
    "for k, v in test_metrics.items():\n",
    "    print(\"\\t - {}: {}\".format(k, v))"
   ]
  },
  {
   "cell_type": "code",
   "execution_count": null,
   "metadata": {},
   "outputs": [],
   "source": []
  }
 ],
 "metadata": {
  "interpreter": {
   "hash": "7d22d6b27a92cd994f9e31f4a97960133434df2a462e6e0a555d37d81245812e"
  },
  "kernelspec": {
   "display_name": "Python 3.9.7 ('.venv': venv)",
   "language": "python",
   "name": "python3"
  },
  "language_info": {
   "codemirror_mode": {
    "name": "ipython",
    "version": 3
   },
   "file_extension": ".py",
   "mimetype": "text/x-python",
   "name": "python",
   "nbconvert_exporter": "python",
   "pygments_lexer": "ipython3",
   "version": "3.9.7"
  },
  "orig_nbformat": 4
 },
 "nbformat": 4,
 "nbformat_minor": 2
}
